{
  "nbformat": 4,
  "nbformat_minor": 0,
  "metadata": {
    "colab": {
      "provenance": [],
      "authorship_tag": "ABX9TyOfoUi3V7+08K6xJwSHB3KT",
      "include_colab_link": true
    },
    "kernelspec": {
      "name": "python3",
      "display_name": "Python 3"
    },
    "language_info": {
      "name": "python"
    }
  },
  "cells": [
    {
      "cell_type": "markdown",
      "metadata": {
        "id": "view-in-github",
        "colab_type": "text"
      },
      "source": [
        "<a href=\"https://colab.research.google.com/github/Neto33rec/Aulas/blob/main/Miniprojeto%20(Aula16).ipynb\" target=\"_parent\"><img src=\"https://colab.research.google.com/assets/colab-badge.svg\" alt=\"Open In Colab\"/></a>"
      ]
    },
    {
      "cell_type": "code",
      "execution_count": 2,
      "metadata": {
        "colab": {
          "base_uri": "https://localhost:8080/"
        },
        "id": "qkLmiIToDvmm",
        "outputId": "6fbdaa8d-f2ee-4ca3-d336-cd182a1f9c58"
      },
      "outputs": [
        {
          "output_type": "stream",
          "name": "stdout",
          "text": [
            "Ingredientes disponíveis:\n",
            "1. Milho, Farinha de milho\n",
            "2. Tomate, Cebola, Pimentão, Coentro\n",
            "3. Água, Sal, Azeite\n",
            "Escolha uma tupla de ingredientes (ou digite '0' para encerrar): \n",
            "Escolha: 1\n",
            "\n",
            "Instruções para a receita escolhida:\n",
            "\n",
            "Misture o milho com farinha de milho.\n",
            "Pique o tomate, cebola, pimentão e coentro e acrescente à mistura.\n",
            "Adicione água, sal e azeite.\n",
            "Coloque em uma cuscuzeira em fogo médio até a casa estiver com cheiro de cuscuz.\n",
            "Escolha: 3\n",
            "\n",
            "Instruções para a receita escolhida:\n",
            "\n",
            "Misture todos os ingredientes: água, sal e azeite.\n",
            "Adicione o milho e a farinha de milho.\n",
            "Misture bem e cozinhe em uma cuscuzeira.\n",
            "Escolha: 0\n",
            "Programa encerrado.\n"
          ]
        }
      ],
      "source": [
        "# Definindo as tuplas de ingredientes e suas instruções\n",
        "ingredientes1 = (\"Milho\", \"Farinha de milho\")\n",
        "ingredientes2 = (\"Tomate\", \"Cebola\", \"Pimentão\", \"Coentro\")\n",
        "ingredientes3 = (\"Água\", \"Sal\", \"Azeite\")\n",
        "\n",
        "# Dicionário para mapear as tuplas\n",
        "instrucoes = {\n",
        "    1: \"Misture o milho com farinha de milho.\\n\"\n",
        "       \"Pique o tomate, cebola, pimentão e coentro e acrescente à mistura.\\n\"\n",
        "       \"Adicione água, sal e azeite.\\n\"\n",
        "       \"Coloque em uma cuscuzeira em fogo médio até a casa estiver com cheiro de cuscuz.\",\n",
        "\n",
        "    2: \"Pique o tomate, cebola, pimentão e coentro.\\n\"\n",
        "       \"Misture com o milho e a farinha de milho.\\n\"\n",
        "       \"Adicione água, sal e azeite.\\n\"\n",
        "       \"Cozinhe em uma cuscuzeira até atingir a consistência desejada.\",\n",
        "\n",
        "    3: \"Misture todos os ingredientes: água, sal e azeite.\\n\"\n",
        "       \"Adicione o milho e a farinha de milho.\\n\"\n",
        "       \"Misture bem e cozinhe em uma cuscuzeira.\",\n",
        "}\n",
        "\n",
        "# Principal função\n",
        "def main():\n",
        "    print(\"Ingredientes disponíveis:\")\n",
        "    print(\"1. Milho, Farinha de milho\")\n",
        "    print(\"2. Tomate, Cebola, Pimentão, Coentro\")\n",
        "    print(\"3. Água, Sal, Azeite\")\n",
        "    print(\"Escolha uma tupla de ingredientes (ou digite '0' para encerrar): \")\n",
        "\n",
        "    while True:\n",
        "        escolha = input(\"Escolha: \")\n",
        "\n",
        "        if escolha == '0':\n",
        "            print(\"Programa encerrado.\")\n",
        "            break\n",
        "\n",
        "        try:\n",
        "            escolha = int(escolha)\n",
        "            if escolha in instrucoes:\n",
        "                print(\"\\nInstruções para a receita escolhida:\\n\")\n",
        "                print(instrucoes[escolha])\n",
        "            else:\n",
        "                print(\"Escolha inválida! Tente novamente.\")\n",
        "        except ValueError:\n",
        "            print(\"Entrada inválida! Por favor, digite um número ou '0' para encerrar.\")\n",
        "\n",
        "# Executa o programa\n",
        "if __name__ == \"__main__\":\n",
        "    main()\n"
      ]
    }
  ]
}