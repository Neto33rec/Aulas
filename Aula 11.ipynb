{
  "nbformat": 4,
  "nbformat_minor": 0,
  "metadata": {
    "colab": {
      "provenance": [],
      "authorship_tag": "ABX9TyNMmm2ZElAqmmZnXVLzcTyq",
      "include_colab_link": true
    },
    "kernelspec": {
      "name": "python3",
      "display_name": "Python 3"
    },
    "language_info": {
      "name": "python"
    }
  },
  "cells": [
    {
      "cell_type": "markdown",
      "metadata": {
        "id": "view-in-github",
        "colab_type": "text"
      },
      "source": [
        "<a href=\"https://colab.research.google.com/github/Neto33rec/Aulas/blob/main/Aula%2011.ipynb\" target=\"_parent\"><img src=\"https://colab.research.google.com/assets/colab-badge.svg\" alt=\"Open In Colab\"/></a>"
      ]
    },
    {
      "cell_type": "code",
      "execution_count": null,
      "metadata": {
        "colab": {
          "base_uri": "https://localhost:8080/"
        },
        "id": "PaBowztbY5dQ",
        "outputId": "8565f9b0-afd9-435e-a849-df310fc1c8aa"
      },
      "outputs": [
        {
          "output_type": "stream",
          "name": "stdout",
          "text": [
            "1\n",
            "4\n",
            "7\n",
            "10\n"
          ]
        }
      ],
      "source": [
        "for i in range(1,13, 3):\n",
        " print(i)"
      ]
    },
    {
      "cell_type": "code",
      "source": [
        "numero = int(input(\"Digite um número para ver a tabuada (entre 1 e 100): \"))\n",
        "for i in range(1, 101):\n",
        " resultado = numero * i\n",
        " print(f\"{numero} x {i} = {resultado}\")"
      ],
      "metadata": {
        "colab": {
          "base_uri": "https://localhost:8080/"
        },
        "id": "jsDfBJXidqH3",
        "outputId": "406c33eb-d681-4bbc-b2b0-ddd2ca9776b9"
      },
      "execution_count": null,
      "outputs": [
        {
          "output_type": "stream",
          "name": "stdout",
          "text": [
            "Digite um número para ver a tabuada (entre 1 e 100): 70\n",
            "70 x 1 = 70\n",
            "70 x 2 = 140\n",
            "70 x 3 = 210\n",
            "70 x 4 = 280\n",
            "70 x 5 = 350\n",
            "70 x 6 = 420\n",
            "70 x 7 = 490\n",
            "70 x 8 = 560\n",
            "70 x 9 = 630\n",
            "70 x 10 = 700\n",
            "70 x 11 = 770\n",
            "70 x 12 = 840\n",
            "70 x 13 = 910\n",
            "70 x 14 = 980\n",
            "70 x 15 = 1050\n",
            "70 x 16 = 1120\n",
            "70 x 17 = 1190\n",
            "70 x 18 = 1260\n",
            "70 x 19 = 1330\n",
            "70 x 20 = 1400\n",
            "70 x 21 = 1470\n",
            "70 x 22 = 1540\n",
            "70 x 23 = 1610\n",
            "70 x 24 = 1680\n",
            "70 x 25 = 1750\n",
            "70 x 26 = 1820\n",
            "70 x 27 = 1890\n",
            "70 x 28 = 1960\n",
            "70 x 29 = 2030\n",
            "70 x 30 = 2100\n",
            "70 x 31 = 2170\n",
            "70 x 32 = 2240\n",
            "70 x 33 = 2310\n",
            "70 x 34 = 2380\n",
            "70 x 35 = 2450\n",
            "70 x 36 = 2520\n",
            "70 x 37 = 2590\n",
            "70 x 38 = 2660\n",
            "70 x 39 = 2730\n",
            "70 x 40 = 2800\n",
            "70 x 41 = 2870\n",
            "70 x 42 = 2940\n",
            "70 x 43 = 3010\n",
            "70 x 44 = 3080\n",
            "70 x 45 = 3150\n",
            "70 x 46 = 3220\n",
            "70 x 47 = 3290\n",
            "70 x 48 = 3360\n",
            "70 x 49 = 3430\n",
            "70 x 50 = 3500\n",
            "70 x 51 = 3570\n",
            "70 x 52 = 3640\n",
            "70 x 53 = 3710\n",
            "70 x 54 = 3780\n",
            "70 x 55 = 3850\n",
            "70 x 56 = 3920\n",
            "70 x 57 = 3990\n",
            "70 x 58 = 4060\n",
            "70 x 59 = 4130\n",
            "70 x 60 = 4200\n",
            "70 x 61 = 4270\n",
            "70 x 62 = 4340\n",
            "70 x 63 = 4410\n",
            "70 x 64 = 4480\n",
            "70 x 65 = 4550\n",
            "70 x 66 = 4620\n",
            "70 x 67 = 4690\n",
            "70 x 68 = 4760\n",
            "70 x 69 = 4830\n",
            "70 x 70 = 4900\n",
            "70 x 71 = 4970\n",
            "70 x 72 = 5040\n",
            "70 x 73 = 5110\n",
            "70 x 74 = 5180\n",
            "70 x 75 = 5250\n",
            "70 x 76 = 5320\n",
            "70 x 77 = 5390\n",
            "70 x 78 = 5460\n",
            "70 x 79 = 5530\n",
            "70 x 80 = 5600\n",
            "70 x 81 = 5670\n",
            "70 x 82 = 5740\n",
            "70 x 83 = 5810\n",
            "70 x 84 = 5880\n",
            "70 x 85 = 5950\n",
            "70 x 86 = 6020\n",
            "70 x 87 = 6090\n",
            "70 x 88 = 6160\n",
            "70 x 89 = 6230\n",
            "70 x 90 = 6300\n",
            "70 x 91 = 6370\n",
            "70 x 92 = 6440\n",
            "70 x 93 = 6510\n",
            "70 x 94 = 6580\n",
            "70 x 95 = 6650\n",
            "70 x 96 = 6720\n",
            "70 x 97 = 6790\n",
            "70 x 98 = 6860\n",
            "70 x 99 = 6930\n",
            "70 x 100 = 7000\n"
          ]
        }
      ]
    },
    {
      "cell_type": "code",
      "source": [
        "numero = int(input(\"Digite um número para ver a tabuada:(1-10) \"))\n",
        "inicio = int(input(\"Digite o valor inicial da tabuada: \"))\n",
        "fim = int(input(\"Digite o valor final da tabuada: \"))\n",
        "if fim >= inicio and fim <= 10:\n",
        " print(f\"\\nTabuada do {numero} de {inicio} a {fim}:\\n\")\n",
        " for i in range(inicio, fim + 1):\n",
        "  resultado = numero * i\n",
        "  print(f\"{numero} x {i} = {resultado}\")\n",
        "else:\n",
        "  print(\"O valor final deve ser válido!\")"
      ],
      "metadata": {
        "colab": {
          "base_uri": "https://localhost:8080/"
        },
        "id": "Nm8gHGMZe5Fv",
        "outputId": "dff10906-7e72-469d-f377-797218ca356f"
      },
      "execution_count": 39,
      "outputs": [
        {
          "output_type": "stream",
          "name": "stdout",
          "text": [
            "Digite um número para ver a tabuada:(1-10) 7\n",
            "Digite o valor inicial da tabuada: 5\n",
            "Digite o valor final da tabuada: 9\n",
            "\n",
            "Tabuada do 7 de 5 a 9:\n",
            "\n",
            "7 x 5 = 35\n",
            "7 x 6 = 42\n",
            "7 x 7 = 49\n",
            "7 x 8 = 56\n",
            "7 x 9 = 63\n"
          ]
        }
      ]
    },
    {
      "cell_type": "code",
      "source": [
        "numero = int(input(\"digite a quantidade do conjunto de numeros: \"))\n",
        "menor, maior ,soma = 0,0,0\n",
        "primeira_vez = True\n",
        "\n",
        "for i in range(numero):\n",
        "  valor = int(input(\"digite o valor: \"))\n",
        "\n",
        "print (i)"
      ],
      "metadata": {
        "colab": {
          "base_uri": "https://localhost:8080/"
        },
        "id": "6-eQ4fGtmfXg",
        "outputId": "a596cd4a-b355-478f-df39-fc063b44ecad"
      },
      "execution_count": null,
      "outputs": [
        {
          "output_type": "stream",
          "name": "stdout",
          "text": [
            "digite a quantidade do conjunto de numeros: 1\n",
            "digite o valor: 5\n",
            "0\n"
          ]
        }
      ]
    },
    {
      "cell_type": "code",
      "source": [
        "soma = 0\n",
        "for i in range(1, 100, 2):\n",
        " soma += i\n",
        "print(f\"Soma dos números ímpares: {soma}\")"
      ],
      "metadata": {
        "colab": {
          "base_uri": "https://localhost:8080/"
        },
        "id": "Li1QFZKSqq0x",
        "outputId": "998a286b-b47d-4ab3-b1a2-682789a2a66e"
      },
      "execution_count": null,
      "outputs": [
        {
          "output_type": "stream",
          "name": "stdout",
          "text": [
            "Soma dos números ímpares: 2500\n"
          ]
        }
      ]
    },
    {
      "cell_type": "code",
      "source": [
        "import random\n",
        "for encontro in range(1, 5):\n",
        " pokemon_aleatorio = random.randint(1, 5)\n",
        "\n",
        " if pokemon_aleatorio == 1:\n",
        "  pokemon_encontrado = \"Pikachu\"\n",
        " elif pokemon_aleatorio == 2:\n",
        "  pokemon_encontrado = \"Charmander\"\n",
        " elif pokemon_aleatorio == 3:\n",
        "  pokemon_encontrado = \"Chikorita\"\n",
        " else:\n",
        "  pokemon_encontrado = \"Bulbasaur\"\n",
        "\n",
        " print(f\"Encontro {encontro}: Você encontrou um {pokemon_encontrado}!\")"
      ],
      "metadata": {
        "colab": {
          "base_uri": "https://localhost:8080/"
        },
        "id": "vcs9q6BprsP2",
        "outputId": "eedcd465-957d-4d21-db5e-b19c714d9e12"
      },
      "execution_count": null,
      "outputs": [
        {
          "output_type": "stream",
          "name": "stdout",
          "text": [
            "Encontro 1: Você encontrou um Pikachu!\n",
            "Encontro 2: Você encontrou um Chikorita!\n",
            "Encontro 3: Você encontrou um Pikachu!\n",
            "Encontro 4: Você encontrou um Bulbasaur!\n"
          ]
        }
      ]
    }
  ]
}