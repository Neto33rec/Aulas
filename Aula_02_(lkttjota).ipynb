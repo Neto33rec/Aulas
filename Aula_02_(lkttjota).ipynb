{
  "nbformat": 4,
  "nbformat_minor": 0,
  "metadata": {
    "colab": {
      "provenance": [],
      "authorship_tag": "ABX9TyPSZGYdBFUlMPjNx2M0Bu3K",
      "include_colab_link": true
    },
    "kernelspec": {
      "name": "python3",
      "display_name": "Python 3"
    },
    "language_info": {
      "name": "python"
    }
  },
  "cells": [
    {
      "cell_type": "markdown",
      "metadata": {
        "id": "view-in-github",
        "colab_type": "text"
      },
      "source": [
        "<a href=\"https://colab.research.google.com/github/Neto33rec/Aulas/blob/main/Aula_02_(lkttjota).ipynb\" target=\"_parent\"><img src=\"https://colab.research.google.com/assets/colab-badge.svg\" alt=\"Open In Colab\"/></a>"
      ]
    },
    {
      "cell_type": "code",
      "execution_count": 1,
      "metadata": {
        "colab": {
          "base_uri": "https://localhost:8080/"
        },
        "id": "7qZ8aGXawE8g",
        "outputId": "9f3f193c-cfec-4182-9c72-7a005ce0190d"
      },
      "outputs": [
        {
          "output_type": "stream",
          "name": "stdout",
          "text": [
            "Pegue a porra do termômetro e veja sua temperatura e responda com base nisso.\n",
            "Qual foi a temperatura indicada no termômetro? 38\n",
            "Febre 👍\n"
          ]
        }
      ],
      "source": [
        "'''\n",
        "Faça um algoritmo que leia a temperatura de uma pessoa e exiba a mensagem “Está com febre” ou “Está\n",
        "sem febre”. Considere que temperaturas acima de 36,5 ºC caracterizam febre.\n",
        "'''\n",
        "\n",
        "# f de febre\n",
        "\n",
        "print (\"Pegue a porra do termômetro e veja sua temperatura e responda com base nisso.\")\n",
        "f = float(input(\"Qual foi a temperatura indicada no termômetro? \"))\n",
        "\n",
        "if f > 37.9:\n",
        "    print(\"Febre 👍\")\n",
        "else:\n",
        "    print(\"Sem febre ✌\")\n"
      ]
    }
  ]
}