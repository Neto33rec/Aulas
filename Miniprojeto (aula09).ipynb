{
  "nbformat": 4,
  "nbformat_minor": 0,
  "metadata": {
    "colab": {
      "provenance": [],
      "authorship_tag": "ABX9TyOujkp3yH8+ZggG6ZJ4U+IW",
      "include_colab_link": true
    },
    "kernelspec": {
      "name": "python3",
      "display_name": "Python 3"
    },
    "language_info": {
      "name": "python"
    }
  },
  "cells": [
    {
      "cell_type": "markdown",
      "metadata": {
        "id": "view-in-github",
        "colab_type": "text"
      },
      "source": [
        "<a href=\"https://colab.research.google.com/github/Neto33rec/Aulas/blob/main/Miniprojeto%20(aula09).ipynb\" target=\"_parent\"><img src=\"https://colab.research.google.com/assets/colab-badge.svg\" alt=\"Open In Colab\"/></a>"
      ]
    },
    {
      "cell_type": "code",
      "execution_count": null,
      "metadata": {
        "id": "Z7Y9OO5QjphF"
      },
      "outputs": [],
      "source": [
        "# Definição das variáveis\n",
        "precos_sanduiches = {\n",
        "    \"carne\": 40.00,\n",
        "    \"frango\": 12.00,\n",
        "    \"vegetariano\": 7.00\n",
        "}\n",
        "\n",
        "precos_extras = {\n",
        "    \"queijo\": 15.00,\n",
        "    \"bacon\": 8.00,\n",
        "    \"alface\": 5.00,\n",
        "    \"tomate\": 9.50\n",
        "}\n",
        "\n",
        "precos_bebidas = {\n",
        "    \"refrigerante\": 8.00,\n",
        "    \"suco\": 7.00,\n",
        "    \"água\": 5.00\n",
        "}\n",
        "\n",
        "# Entrada de dados\n",
        "print(\"Bem-vindo à lanchonete!\")\n",
        "tipo_sanduiche = input(\"Escolha o tipo de sanduíche (carne, frango, vegetariano): \").strip().lower()\n",
        "\n",
        "# Verificando se o tipo de sanduíche é válido\n",
        "if tipo_sanduiche not in precos_sanduiches:\n",
        "    print(\"Tipo de sanduíche inválido. Tente novamente.\")\n",
        "else:\n",
        "    extras = []\n",
        "    adicionar_extras = input(\"Deseja adicionar ingredientes extras? (sim/não): \").strip().lower()\n",
        "\n",
        "    while adicionar_extras == 'sim':\n",
        "        extra = input(\"Escolha um ingrediente extra (queijo, bacon, alface, tomate) ou 'sair' para finalizar: \").strip().lower()\n",
        "\n",
        "        if extra == 'sair':\n",
        "            break\n",
        "        elif extra in precos_extras:\n",
        "            extras.append(extra)\n",
        "        else:\n",
        "            print(\"Ingrediente extra inválido. Tente novamente.\")\n",
        "\n",
        "        adicionar_extras = input(\"Deseja adicionar mais ingredientes extras? (sim/não): \").strip().lower()\n",
        "\n",
        "    bebida = input(\"Escolha uma bebida (refrigerante, suco, água): \").strip().lower()\n",
        "\n",
        "    # Verificando se a bebida é válida\n",
        "    if bebida not in precos_bebidas:\n",
        "        print(\"Bebida inválida. Tente novamente.\")\n",
        "    else:\n",
        "        # Cálculo do preço total\n",
        "        preco_total = precos_sanduiches[tipo_sanduiche]\n",
        "\n",
        "        for extra in extras:\n",
        "            preco_total += precos_extras[extra]\n",
        "\n",
        "        preco_total += precos_bebidas[bebida]\n",
        "\n",
        "        # Exibição do resultado\n",
        "        print(\"\\n--- Seu Pedido ---\")\n",
        "        print(f\"Tipo de Sanduíche: {tipo_sanduiche.capitalize()} - R${precos_sanduiches[tipo_sanduiche]:.2f}\")\n",
        "\n",
        "        if extras:\n",
        "            print(\"Ingredientes Extras:\")\n",
        "            for extra in extras:\n",
        "                print(f\"- {extra.capitalize()} - R${precos_extras[extra]:.2f}\")\n",
        "\n",
        "        print(f\"Bebida: {bebida.capitalize()} - R${precos_bebidas[bebida]:.2f}\")\n",
        "        print(f\"Preço Total: R${preco_total:.2f}\")\n"
      ]
    }
  ]
}