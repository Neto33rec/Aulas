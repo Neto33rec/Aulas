{
  "nbformat": 4,
  "nbformat_minor": 0,
  "metadata": {
    "colab": {
      "provenance": [],
      "authorship_tag": "ABX9TyMsUUegPuDjyNI/UNP3+aIh",
      "include_colab_link": true
    },
    "kernelspec": {
      "name": "python3",
      "display_name": "Python 3"
    },
    "language_info": {
      "name": "python"
    }
  },
  "cells": [
    {
      "cell_type": "markdown",
      "metadata": {
        "id": "view-in-github",
        "colab_type": "text"
      },
      "source": [
        "<a href=\"https://colab.research.google.com/github/Neto33rec/Aulas/blob/main/Aula_05.ipynb\" target=\"_parent\"><img src=\"https://colab.research.google.com/assets/colab-badge.svg\" alt=\"Open In Colab\"/></a>"
      ]
    },
    {
      "cell_type": "code",
      "execution_count": null,
      "metadata": {
        "colab": {
          "base_uri": "https://localhost:8080/"
        },
        "id": "zRcFITh884hO",
        "outputId": "491a6b5a-ab6d-4294-e565-10a59cc38f92"
      },
      "outputs": [
        {
          "output_type": "stream",
          "name": "stdout",
          "text": [
            "Digite seu nome: Neto\n",
            "Digite sua idade: 16\n",
            "Digite sua altura: 1.87\n",
            "Neto\n",
            "16\n",
            "1.87\n"
          ]
        }
      ],
      "source": [
        "nome = input(\"Digite seu nome: \")\n",
        "idade = int (input(\"Digite sua idade: \"))\n",
        "altura = float(input(\"Digite sua altura: \"))\n",
        "\n",
        "print (nome)\n",
        "print (idade)\n",
        "print (altura)"
      ]
    },
    {
      "cell_type": "code",
      "source": [
        "filme = input(\"Qual seu filme favorito? \")\n",
        "livro = input(\"QUal o seu livro favorito? \")\n",
        "musica = input(\"Qual a sua musica favorita? \")\n",
        "\n",
        "print (filme,livro,musica)"
      ],
      "metadata": {
        "colab": {
          "base_uri": "https://localhost:8080/"
        },
        "id": "lCXm_5Vl_Pm_",
        "outputId": "9e1ffc25-f7e3-4fb3-d73a-f15fc2132e99"
      },
      "execution_count": null,
      "outputs": [
        {
          "output_type": "stream",
          "name": "stdout",
          "text": [
            "Qual seu filme favorito? O sequestro do voo 375\n",
            "QUal o seu livro favorito? Proverbios\n",
            "Qual a sua musica favorita? Principe da paz\n",
            "O sequestro do voo 375 Proverbios Principe da paz\n"
          ]
        }
      ]
    },
    {
      "cell_type": "markdown",
      "source": [],
      "metadata": {
        "id": "g9XHbmhn9ErG"
      }
    },
    {
      "cell_type": "code",
      "source": [
        "dia_semana = input(\"Digite seu dia da semana favorito: \")\n",
        "print (dia_semana, \"Uma boa escolha! \")"
      ],
      "metadata": {
        "colab": {
          "base_uri": "https://localhost:8080/"
        },
        "id": "PVTMBTD0BT8-",
        "outputId": "7ae5e99c-7054-4100-e505-271af2a27676"
      },
      "execution_count": null,
      "outputs": [
        {
          "output_type": "stream",
          "name": "stdout",
          "text": [
            "Digite seu dia da semana favorito: Quarta-Feira\n",
            "Quarta-Feira Uma boa escolha! \n"
          ]
        }
      ]
    },
    {
      "cell_type": "code",
      "source": [
        "ff = input(\"Em qual temporada da ranqueada você pegou o seu primeiro mestre? \")\n",
        "print (ff, \"Excelente! \")"
      ],
      "metadata": {
        "colab": {
          "base_uri": "https://localhost:8080/"
        },
        "id": "ZQd29uiMBpCn",
        "outputId": "28512b78-bddd-4fb8-821f-d5e891c0179f"
      },
      "execution_count": null,
      "outputs": [
        {
          "output_type": "stream",
          "name": "stdout",
          "text": [
            "Em qual temporada da ranqueada você pegou o seu primeiro mestre? 24\n",
            "24 Excelente! \n"
          ]
        }
      ]
    }
  ]
}