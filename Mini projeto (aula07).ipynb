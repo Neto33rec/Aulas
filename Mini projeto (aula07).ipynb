{
  "nbformat": 4,
  "nbformat_minor": 0,
  "metadata": {
    "colab": {
      "provenance": [],
      "authorship_tag": "ABX9TyNqkXPfqh5clXQpHud4HcPA",
      "include_colab_link": true
    },
    "kernelspec": {
      "name": "python3",
      "display_name": "Python 3"
    },
    "language_info": {
      "name": "python"
    }
  },
  "cells": [
    {
      "cell_type": "markdown",
      "metadata": {
        "id": "view-in-github",
        "colab_type": "text"
      },
      "source": [
        "<a href=\"https://colab.research.google.com/github/Neto33rec/Aulas/blob/main/Mini%20projeto%20(aula07).ipynb\" target=\"_parent\"><img src=\"https://colab.research.google.com/assets/colab-badge.svg\" alt=\"Open In Colab\"/></a>"
      ]
    },
    {
      "cell_type": "code",
      "execution_count": null,
      "metadata": {
        "id": "K28UV2-lhZdU"
      },
      "outputs": [],
      "source": [
        "idade = int(input(\"digite sua idade: \"))\n",
        "\n",
        "if idade >= 16:\n",
        "   print(\"Você pode votar.\")\n",
        "elif idade < 16:\n",
        "   print(\"Você não pode votar.\")"
      ]
    }
  ]
}