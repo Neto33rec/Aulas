{
  "nbformat": 4,
  "nbformat_minor": 0,
  "metadata": {
    "colab": {
      "provenance": [],
      "authorship_tag": "ABX9TyMbvPsMjAmi6XCCmP4ljq5b",
      "include_colab_link": true
    },
    "kernelspec": {
      "name": "python3",
      "display_name": "Python 3"
    },
    "language_info": {
      "name": "python"
    }
  },
  "cells": [
    {
      "cell_type": "markdown",
      "metadata": {
        "id": "view-in-github",
        "colab_type": "text"
      },
      "source": [
        "<a href=\"https://colab.research.google.com/github/Neto33rec/Aulas/blob/main/Miniprojeto%20(Aula12).ipynb\" target=\"_parent\"><img src=\"https://colab.research.google.com/assets/colab-badge.svg\" alt=\"Open In Colab\"/></a>"
      ]
    },
    {
      "cell_type": "code",
      "execution_count": 3,
      "metadata": {
        "colab": {
          "base_uri": "https://localhost:8080/"
        },
        "id": "BsMc5PsN8i9s",
        "outputId": "68ffb2c0-2382-4a73-97a4-6f0c4a5e2452"
      },
      "outputs": [
        {
          "output_type": "stream",
          "name": "stdout",
          "text": [
            "Você deve escoolher uma das barracas\n",
            "1. Barra de calçados\n",
            "2. Barra de comida\n",
            "3. Barra de roupas\n",
            "Qual barraca você acha que está? (somente número)2\n",
            "Não está nessa barraca continue procurando até achar.\n",
            "1. Barra de calçados\n",
            "2. Barra de comida\n",
            "3. Barra de roupas\n",
            "Qual barraca você acha que está? (somente número)3\n",
            "Você achou o artefato\n"
          ]
        }
      ],
      "source": [
        "import random\n",
        "\n",
        "barraca1 = \"Barra de calçados\"\n",
        "barraca2 = \"Barra de comida\"\n",
        "barraca3 = \"Barra de roupas\"\n",
        "\n",
        "esconderijo = random.randint(1,3)\n",
        "escolha = 0\n",
        "\n",
        "print(\"Você deve escoolher uma das barracas\")\n",
        "\n",
        "while escolha != esconderijo:\n",
        "  for i in range(3):\n",
        "    if i == 0 :\n",
        "      print(f\"{i +1}. {barraca1}\")\n",
        "    elif   i == 1 :\n",
        "      print(f\"{i +1}. {barraca2}\")\n",
        "    elif i == 2 :\n",
        "      print(f\"{i +1}. {barraca3}\")\n",
        "  escolha = int(input(\"Qual barraca você acha que está? (somente número)\"))\n",
        "\n",
        "  if escolha == esconderijo:\n",
        "    print(\"Você achou o artefato\")\n",
        "\n",
        "  else:\n",
        "    print(\"Não está nessa barraca continue procurando até achar.\")"
      ]
    },
    {
      "cell_type": "code",
      "source": [],
      "metadata": {
        "id": "LnEkBC1NAJlL"
      },
      "execution_count": null,
      "outputs": []
    }
  ]
}