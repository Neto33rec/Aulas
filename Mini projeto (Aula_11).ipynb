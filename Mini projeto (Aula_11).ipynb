{
  "nbformat": 4,
  "nbformat_minor": 0,
  "metadata": {
    "colab": {
      "provenance": [],
      "authorship_tag": "ABX9TyPQLP4YSo3Qw8p6VbbitPSl",
      "include_colab_link": true
    },
    "kernelspec": {
      "name": "python3",
      "display_name": "Python 3"
    },
    "language_info": {
      "name": "python"
    }
  },
  "cells": [
    {
      "cell_type": "markdown",
      "metadata": {
        "id": "view-in-github",
        "colab_type": "text"
      },
      "source": [
        "<a href=\"https://colab.research.google.com/github/Neto33rec/Aulas/blob/main/Mini%20projeto%20(Aula_11).ipynb\" target=\"_parent\"><img src=\"https://colab.research.google.com/assets/colab-badge.svg\" alt=\"Open In Colab\"/></a>"
      ]
    },
    {
      "cell_type": "code",
      "execution_count": null,
      "metadata": {
        "colab": {
          "base_uri": "https://localhost:8080/"
        },
        "id": "Lb2n0LDjD6zm",
        "outputId": "da531a76-efd9-443f-ede7-a555a161d2cc"
      },
      "outputs": [
        {
          "output_type": "stream",
          "name": "stdout",
          "text": [
            "Olá somos a barraca 1: nós oferecemos:\n",
            "Abobora e banana\n"
          ]
        }
      ],
      "source": [
        "Barraca1 = \"Abobora e banana\"\n",
        "Barraca2 = \"Jerimum e Melancia\"\n",
        "Barraca3 = \"tomate e Beringela \"\n",
        "\n",
        "for i in range(3):\n",
        "  print(f\"Olá somos a barraca {i + 1}: nós oferecemos:\")\n",
        "\n",
        "  if i == 0 :\n",
        "    print(Barraca1)\n",
        "    nota1fruta = float(input(\"De sua nota para a fruta: \"))\n",
        "    nota1vegetal = float(input(\"De sua nota para a vegetal: \"))\n",
        "  elif i == 1 :\n",
        "    print(Barraca2)\n",
        "    nota2fruta = float(input(\"De sua nota para a fruta: \"))\n",
        "    nota2vegetal = float(input(\"De sua nota para a vegetal: \"))\n",
        "  elif i == 2 :\n",
        "    print(Barraca3)\n",
        "    nota3fruta = float(input(\"De sua nota para a fruta: \"))\n",
        "    nota3vegetal = float(input(\"De sua nota para a vegetal: \"))\n",
        "\n",
        "print(\"Vamos para os vencedores da categoria\")\n",
        "\n",
        "if nota1fruta > nota2fruta and nota1fruta > nota3fruta:\n",
        "    print(\"o vencedar da categoria fruta é a barraca 1\")\n",
        "elif nota2fruta > nota3fruta :\n",
        "    print(\"o vencedar da categoria fruta é a barraca 2\")\n",
        "else:\n",
        "    print(\"o vencedar da categoria fruta é a barraca 3\")\n",
        "\n",
        "if nota1vegetal > nota2vegetal and nota1vegetal > nota3vegetal :\n",
        "    print(\"o vencedar da categoria vegetal é a barraca 1\")\n",
        "elif nota2vegetal > nota3vegetal :\n",
        "    print(\"o vencedar da categoria vegetal é a barraca 2\")\n",
        "else:\n",
        "    print(\"o vencedar da categoria vegetal é a barraca 3\")"
      ]
    }
  ]
}