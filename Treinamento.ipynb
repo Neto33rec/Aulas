{
  "nbformat": 4,
  "nbformat_minor": 0,
  "metadata": {
    "colab": {
      "provenance": [],
      "authorship_tag": "ABX9TyOmbnc2tb0nJbrrWhTEcpdX",
      "include_colab_link": true
    },
    "kernelspec": {
      "name": "python3",
      "display_name": "Python 3"
    },
    "language_info": {
      "name": "python"
    }
  },
  "cells": [
    {
      "cell_type": "markdown",
      "metadata": {
        "id": "view-in-github",
        "colab_type": "text"
      },
      "source": [
        "<a href=\"https://colab.research.google.com/github/Neto33rec/Aulas/blob/main/Treinamento.ipynb\" target=\"_parent\"><img src=\"https://colab.research.google.com/assets/colab-badge.svg\" alt=\"Open In Colab\"/></a>"
      ]
    },
    {
      "cell_type": "code",
      "execution_count": 7,
      "metadata": {
        "colab": {
          "base_uri": "https://localhost:8080/"
        },
        "id": "IVcGQ9m1_MBf",
        "outputId": "bb54b645-f648-4ee2-b1f1-b875223758b4"
      },
      "outputs": [
        {
          "output_type": "stream",
          "name": "stdout",
          "text": [
            "Digite um numero: 70\n",
            "resultado da conta é: 96\n",
            "resultado da conta é: 89\n",
            "resultado da conta é: 29.666666666666668\n",
            "resultado da conta é: 59.333333333333336\n"
          ]
        }
      ],
      "source": [
        "numero = int(input(\"Digite um numero: \"))\n",
        "#adição\n",
        "numero += 26\n",
        "print (\"resultado da conta é:\",numero)\n",
        "#subtração\n",
        "numero -= 7\n",
        "print (\"resultado da conta é:\",numero)\n",
        "#divisão\n",
        "numero /= 3\n",
        "print (\"resultado da conta é:\",numero)\n",
        "#multiplicação\n",
        "numero *= 2\n",
        "print (\"resultado da conta é:\",numero)"
      ]
    },
    {
      "cell_type": "code",
      "source": [
        "nome = input(\"Digite seu nome: \")\n",
        "idade = int (input(\"Digite sua idade: \"))\n",
        "altura = float(input(\"Digite sua altura: \"))\n",
        "\n",
        "filme = input(\"Qual seu filme favorito? \")\n",
        "livro = input(\"QUal o seu livro favorito? \")\n",
        "musica = input(\"Qual a sua musica favorita? \")\n",
        "dia_semana = input(\"Digite seu dia da semana favorito: \")\n",
        "print (nome)\n",
        "print (idade)\n",
        "print (altura)\n",
        "print (filme)\n",
        "print (livro)\n",
        "print (musica)\n",
        "print (dia_semana, \" É um ótimo dia! \")\n",
        "\n",
        "numero int(input(\"digite uma numero para a conta: \"))\n",
        "print (numero)\n",
        "conta1 += 26\n",
        "print (conta1)\n",
        "conta2 -=\n",
        "print (conta2)\n",
        "conta3 *=\n",
        "print (conta3)\n",
        "conta4 /=\n",
        "print (conta4)"
      ],
      "metadata": {
        "colab": {
          "base_uri": "https://localhost:8080/"
        },
        "id": "7XWGEnRyAX0E",
        "outputId": "b7673835-dd45-434a-f675-261370bf3481"
      },
      "execution_count": 10,
      "outputs": [
        {
          "output_type": "stream",
          "name": "stdout",
          "text": [
            "Digite seu nome: Neto\n",
            "Digite sua idade: 16\n",
            "Digite sua altura: 1.87\n",
            "Qual seu filme favorito? Como treinar o seu dragão 3\n",
            "QUal o seu livro favorito? Provérbios\n",
            "Qual a sua musica favorita? Principe da paz\n",
            "Digite seu dia da semana favorito: Sexta\n",
            "Neto\n",
            "16\n",
            "1.87\n",
            "Como treinar o seu dragão 3\n",
            "Provérbios\n",
            "Principe da paz\n",
            "Sexta  É um ótimo dia! \n"
          ]
        }
      ]
    }
  ]
}