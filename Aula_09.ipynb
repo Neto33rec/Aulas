{
  "nbformat": 4,
  "nbformat_minor": 0,
  "metadata": {
    "colab": {
      "provenance": [],
      "authorship_tag": "ABX9TyN9BIu/BIiOPRGuXnLVCEEE",
      "include_colab_link": true
    },
    "kernelspec": {
      "name": "python3",
      "display_name": "Python 3"
    },
    "language_info": {
      "name": "python"
    }
  },
  "cells": [
    {
      "cell_type": "markdown",
      "metadata": {
        "id": "view-in-github",
        "colab_type": "text"
      },
      "source": [
        "<a href=\"https://colab.research.google.com/github/Neto33rec/Aulas/blob/main/Aula_09.ipynb\" target=\"_parent\"><img src=\"https://colab.research.google.com/assets/colab-badge.svg\" alt=\"Open In Colab\"/></a>"
      ]
    },
    {
      "cell_type": "code",
      "execution_count": 7,
      "metadata": {
        "colab": {
          "base_uri": "https://localhost:8080/"
        },
        "id": "z9ItCIktBeFZ",
        "outputId": "712053c8-8b1a-4a2f-dafa-76feec3829de"
      },
      "outputs": [
        {
          "output_type": "stream",
          "name": "stdout",
          "text": [
            "Digite uma nota de 0 a 100: 70\n",
            "C\n"
          ]
        }
      ],
      "source": [
        "nota = int(input(\"Digite uma nota de 0 a 100: \"))\n",
        "if nota >= 90:\n",
        " print(\"A\")\n",
        "elif nota >= 80:\n",
        " print(\"B\")\n",
        "elif nota >= 70:\n",
        " print(\"C\")\n",
        "elif nota >= 60:\n",
        " print(\"D\")\n",
        "else:\n",
        " print(\"F\")"
      ]
    },
    {
      "cell_type": "code",
      "source": [
        "temperatura = int(input(\"Digite a temperatura: \"))\n",
        "chuva = False\n",
        "sol = True\n",
        "\n",
        "if temperatura >= 30:\n",
        " print(\"Vamos a praia!\")\n",
        "elif 20 <= temperatura < 30 and sol:\n",
        " print(\"vamos a cachoeira d'cria pivete.\")\n",
        "elif temperatura < 10 or chuva:\n",
        " print(\"Está frio ou chovendo. Melhor ficar em casa e assistir uma série ou filme.\")\n",
        "else:\n",
        " print(\"Condições indefinidas. Talvez você queira decidir com base em outrosfatores.\")"
      ],
      "metadata": {
        "colab": {
          "base_uri": "https://localhost:8080/"
        },
        "id": "0uqQZJupF6_R",
        "outputId": "9acd9e06-7825-4d7b-e126-819f81513e91"
      },
      "execution_count": 10,
      "outputs": [
        {
          "output_type": "stream",
          "name": "stdout",
          "text": [
            "Digite a temperatura: 26\n",
            "vamos a cachoeira d'cria pivete.\n"
          ]
        }
      ]
    },
    {
      "cell_type": "code",
      "source": [
        "turno = input(\"Em que turno você estuda? Digite M para manhã, T para Tarde ou N para noturno: \")\n",
        "if turno.upper() == 'M':\n",
        " print(\"Bom Dia estudante!\")\n",
        "elif turno.upper() == 'T':\n",
        " print(\"Boa Tarde estudante!\")\n",
        "elif turno.upper() == 'N':\n",
        " print(\"Boa Noite !\")\n",
        "else:\n",
        " print(\"Valor Inválido!\")"
      ],
      "metadata": {
        "colab": {
          "base_uri": "https://localhost:8080/"
        },
        "id": "pRkq5M5tG9ki",
        "outputId": "8d2a3d0a-8c34-4cba-d6cb-e61758275001"
      },
      "execution_count": 18,
      "outputs": [
        {
          "output_type": "stream",
          "name": "stdout",
          "text": [
            "Em que turno você estuda? Digite M para manhã, T para Tarde ou N para noturno: m\n",
            "Bom Dia estudante!\n"
          ]
        }
      ]
    },
    {
      "cell_type": "code",
      "source": [
        "nt1 = float(input(\"Digite a primeira nota: \"))\n",
        "nt2 = float(input(\"Digite a segunda nota: \"))\n",
        "\n",
        "media = (nt1 + nt2) / 2\n",
        "\n",
        "if media >= 6:\n",
        " print(f\"Aprovado, sua média é {round(media,2)}\")\n",
        "elif media >= 3:\n",
        " print(f\"Foi para a Final, sua média é {round(media,2)}\")\n",
        "else:\n",
        " print(f\"Reprovado, sua média é {round(media,2)}\")"
      ],
      "metadata": {
        "colab": {
          "base_uri": "https://localhost:8080/"
        },
        "id": "BjX6YwZOPnWv",
        "outputId": "41974dd1-ea0e-482c-f0cf-3ab182f80000"
      },
      "execution_count": 19,
      "outputs": [
        {
          "output_type": "stream",
          "name": "stdout",
          "text": [
            "Digite a primeira nota:  2\n",
            "Digite a segunda nota:  6\n",
            "Foi para a Final, sua média é 4.0\n"
          ]
        }
      ]
    },
    {
      "cell_type": "code",
      "source": [
        "num1 = float(input(\"Digite o primeiro número: \"))\n",
        "num2 = float(input(\"Digite o segundo número: \"))\n",
        "operacao = input(\"Escolha uma operação (+, -, *, /): \")\n",
        "if operacao == '+':\n",
        " resultado = num1 + num2\n",
        " print(f\"Resultado da operação: {resultado}\")\n",
        "elif operacao == '-':\n",
        " resultado = num1 - num2\n",
        " print(f\"Resultado da operação: {resultado}\")\n",
        "elif operacao == '*':\n",
        " resultado = num1 * num2\n",
        " print(f\"Resultado da operação: {resultado}\")\n",
        "elif operacao == '/':\n",
        " resultado = num1 / num2\n",
        " print(f\"Resultado da operação: {resultado}\")\n",
        "else:\n",
        " print(\"Operação inválida!\")"
      ],
      "metadata": {
        "colab": {
          "base_uri": "https://localhost:8080/"
        },
        "id": "zC0LGh-QT5Eh",
        "outputId": "22699984-4b62-4f5b-f17e-1b8fa56f002e"
      },
      "execution_count": 22,
      "outputs": [
        {
          "output_type": "stream",
          "name": "stdout",
          "text": [
            "Digite o primeiro número: 2024\n",
            "Digite o segundo número: 42\n",
            "Escolha uma operação (+, -, *, /): -\n",
            "Resultado da operação: 1982.0\n"
          ]
        }
      ]
    },
    {
      "cell_type": "code",
      "source": [
        "mes = input(\"Digite o nome do mês (ex: Setembro): \")\n",
        "dia = int(input(\"Digite o dia (1 a 31): \"))\n",
        "if (mes == \"dezembro\" and dia >= 21) or (mes == \"janeiro\") or (mes == \"fevereiro\") or (mes == \"março\" and dia < 20):\n",
        " estacao = \"Verão\"\n",
        "elif (mes == \"março\" and dia >= 20) or (mes == \"abril\") or (mes == \"maio\") or (mes ==\n",
        "\"junho\" and dia < 21):\n",
        " estacao = \"Outono\"\n",
        "elif (mes == \"junho\" and dia >= 21) or (mes == \"julho\") or (mes == \"agosto\") or (mes\n",
        "== \"setembro\" and dia < 23):\n",
        " estacao = \"Inverno\"\n",
        "else:\n",
        " estacao = \"Primavera\"\n",
        " print(f\"A estação do ano para o dia {dia} de {mes} é: {estacao}\")"
      ],
      "metadata": {
        "colab": {
          "base_uri": "https://localhost:8080/"
        },
        "id": "Y0vAIFLAXy6K",
        "outputId": "3f296072-c03d-491d-847a-97a3293e4433"
      },
      "execution_count": 24,
      "outputs": [
        {
          "output_type": "stream",
          "name": "stdout",
          "text": [
            "Digite o nome do mês (ex: Setembro): Setembro\n",
            "Digite o dia (1 a 31): 26\n",
            "A estação do ano para o dia 26 de Setembro é: Primavera\n"
          ]
        }
      ]
    }
  ]
}