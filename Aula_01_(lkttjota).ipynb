{
  "nbformat": 4,
  "nbformat_minor": 0,
  "metadata": {
    "colab": {
      "provenance": [],
      "authorship_tag": "ABX9TyONXLG9Y7zicxSprvOg86Nl",
      "include_colab_link": true
    },
    "kernelspec": {
      "name": "python3",
      "display_name": "Python 3"
    },
    "language_info": {
      "name": "python"
    }
  },
  "cells": [
    {
      "cell_type": "markdown",
      "metadata": {
        "id": "view-in-github",
        "colab_type": "text"
      },
      "source": [
        "<a href=\"https://colab.research.google.com/github/Neto33rec/Aulas/blob/main/Aula_01_(lkttjota).ipynb\" target=\"_parent\"><img src=\"https://colab.research.google.com/assets/colab-badge.svg\" alt=\"Open In Colab\"/></a>"
      ]
    },
    {
      "cell_type": "code",
      "execution_count": 1,
      "metadata": {
        "colab": {
          "base_uri": "https://localhost:8080/"
        },
        "id": "Z-MghFROxngl",
        "outputId": "164587dd-1fbf-467e-f0d8-384a9243af7f"
      },
      "outputs": [
        {
          "output_type": "stream",
          "name": "stdout",
          "text": [
            "Olá, qual é o seu nome? Neto\n",
            "Digite 'M' para (Masculino) ou 'F' para (Feminino)\n",
            "Qual o seu sexo? M\n",
            "Olá, meu nome é Neto e eu me identifico como do sexo Masculino.\n"
          ]
        }
      ],
      "source": [
        "# Faça um algoritmo que leia o sexo de uma pessoa (‘M’ ou ‘F’) e exiba a mensagem “Masculino” ou “Feminino”.\n",
        "\n",
        "nome = input(\"Olá, qual é o seu nome? \")\n",
        "print (f\"Digite 'M' para (Masculino) ou 'F' para (Feminino)\")\n",
        "sexo = input(\"Qual o seu sexo? \")\n",
        "\n",
        "if sexo == \"M\":\n",
        "    sexo = \"Masculino\"\n",
        "elif sexo == \"F\":\n",
        "    sexo = \"Feminino\"\n",
        "\n",
        "print (f\"Olá, meu nome é {nome} e eu me identifico como do sexo {sexo}.\")"
      ]
    }
  ]
}