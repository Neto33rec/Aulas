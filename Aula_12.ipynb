{
  "nbformat": 4,
  "nbformat_minor": 0,
  "metadata": {
    "colab": {
      "provenance": [],
      "authorship_tag": "ABX9TyPCp7dAk98YJDA2lnY7JE1D",
      "include_colab_link": true
    },
    "kernelspec": {
      "name": "python3",
      "display_name": "Python 3"
    },
    "language_info": {
      "name": "python"
    }
  },
  "cells": [
    {
      "cell_type": "markdown",
      "metadata": {
        "id": "view-in-github",
        "colab_type": "text"
      },
      "source": [
        "<a href=\"https://colab.research.google.com/github/Neto33rec/Aulas/blob/main/Aula_12.ipynb\" target=\"_parent\"><img src=\"https://colab.research.google.com/assets/colab-badge.svg\" alt=\"Open In Colab\"/></a>"
      ]
    },
    {
      "cell_type": "code",
      "execution_count": 1,
      "metadata": {
        "colab": {
          "base_uri": "https://localhost:8080/"
        },
        "id": "brq2uiYTcgmf",
        "outputId": "d3848088-40fe-423e-bf9b-4810e0b3bd34"
      },
      "outputs": [
        {
          "name": "stdout",
          "output_type": "stream",
          "text": [
            "digite o nome da serie que você está assistindo: Nenhuma\n",
            "O nome da série Nenhuma e o episódio 1\n",
            "Digite Sim para continuar assistindo e Não para sair: Não\n"
          ]
        }
      ],
      "source": [
        "serie = input(\"digite o nome da serie que você está assistindo: \")\n",
        "episodio = 1\n",
        "\n",
        "while True:\n",
        "  print(f\"O nome da série {serie} e o episódio {episodio}\")\n",
        "  opcao = input(\"Digite Sim para continuar assistindo e Não para sair: \")\n",
        "  if opcao == \"Sim\":\n",
        "    episodio +=1\n",
        "  elif opcao == \"Não\":\n",
        "    break\n",
        "  else:\n",
        "    print(\"Opção inválida!\")"
      ]
    },
    {
      "cell_type": "code",
      "source": [
        "import random\n",
        "vida_pokemon1 = 100\n",
        "vida_pokemon2 = 100\n",
        "rodada = 1\n",
        "while vida_pokemon1 > 0 and vida_pokemon2 > 0:\n",
        " dano_pokemon1 = random.randint(10, 20)\n",
        " dano_pokemon2 = random.randint(8, 15)\n",
        " vida_pokemon1 -= dano_pokemon2\n",
        " vida_pokemon2 -= dano_pokemon1\n",
        " print(f\"Rodada {rodada}:\")\n",
        " print(f\"Pokémon 1 causou {dano_pokemon1} de dano. Vida do Pokémon 2: {vida_pokemon2}\")\n",
        " print(f\"Pokémon 2 causou {dano_pokemon2} de dano. Vida do Pokémon 1: {vida_pokemon1}\")\n",
        " rodada += 1\n",
        "\n",
        "if vida_pokemon1 <= 0:\n",
        " print(\"Pokémon 2 venceu!\")\n",
        "else:\n",
        " print(\"Pokémon 1 venceu!\")"
      ],
      "metadata": {
        "colab": {
          "base_uri": "https://localhost:8080/"
        },
        "id": "N13Puxcif1JZ",
        "outputId": "c230cb97-e2ce-40e7-90cd-3dfc651d3c91"
      },
      "execution_count": 2,
      "outputs": [
        {
          "output_type": "stream",
          "name": "stdout",
          "text": [
            "Rodada 1:\n",
            "Pokémon 1 causou 19 de dano. Vida do Pokémon 2: 81\n",
            "Pokémon 2 causou 10 de dano. Vida do Pokémon 1: 90\n",
            "Rodada 2:\n",
            "Pokémon 1 causou 12 de dano. Vida do Pokémon 2: 69\n",
            "Pokémon 2 causou 15 de dano. Vida do Pokémon 1: 75\n",
            "Rodada 3:\n",
            "Pokémon 1 causou 14 de dano. Vida do Pokémon 2: 55\n",
            "Pokémon 2 causou 11 de dano. Vida do Pokémon 1: 64\n",
            "Rodada 4:\n",
            "Pokémon 1 causou 14 de dano. Vida do Pokémon 2: 41\n",
            "Pokémon 2 causou 10 de dano. Vida do Pokémon 1: 54\n",
            "Rodada 5:\n",
            "Pokémon 1 causou 13 de dano. Vida do Pokémon 2: 28\n",
            "Pokémon 2 causou 8 de dano. Vida do Pokémon 1: 46\n",
            "Rodada 6:\n",
            "Pokémon 1 causou 12 de dano. Vida do Pokémon 2: 16\n",
            "Pokémon 2 causou 12 de dano. Vida do Pokémon 1: 34\n",
            "Rodada 7:\n",
            "Pokémon 1 causou 13 de dano. Vida do Pokémon 2: 3\n",
            "Pokémon 2 causou 13 de dano. Vida do Pokémon 1: 21\n",
            "Rodada 8:\n",
            "Pokémon 1 causou 10 de dano. Vida do Pokémon 2: -7\n",
            "Pokémon 2 causou 15 de dano. Vida do Pokémon 1: 6\n",
            "Pokémon 1 venceu!\n"
          ]
        }
      ]
    },
    {
      "cell_type": "code",
      "source": [
        "saldo = 100\n",
        "\n",
        "while True:\n",
        "  print(\"##### Menu #####\")\n",
        "  print(\"1. Para fazer um saque\")\n",
        "  print(\"2. Para fazer um depósito\")\n",
        "  print(\"3. Para verificar o saldo\")\n",
        "  print(\"4. Para sair\")\n",
        "\n",
        "  opcao = int(input(\"Digite uma opção do menu (1-4): \"))\n",
        "\n",
        "  if opcao ==1:\n",
        "    saque = int(input(\"Digite o valor que você deseja sacar: \"))\n",
        "    if saque <=saldo:\n",
        "      saldo -=saque\n",
        "      print(\"Operação Realizada com Sucesso!\")\n",
        "    else:\n",
        "      print (\"Valor maior que o seu saldo!\")\n",
        "  elif opcao == 2:\n",
        "      deposito = int(input(\"Digite o valor que você deseja depositar: \"))\n",
        "      if deposito <= saldo:\n",
        "        saldo-=deposito\n",
        "        print(\"Depósito realizado com Sucesso!\")\n",
        "      else:\n",
        "        print(\"Valor maior que o seu saldo!\")\n",
        "  elif opcao == 3:\n",
        "        print (f\"Seu saldo é de R$ {saldo}\")\n",
        "  elif opcao == 4:\n",
        "        print(\"Sistema Encerrado!\")\n",
        "        break\n",
        "  else:\n",
        "        print(\"Opcao Inválida!\")"
      ],
      "metadata": {
        "colab": {
          "base_uri": "https://localhost:8080/"
        },
        "id": "bEPe1GnGh5BD",
        "outputId": "5bf9be33-9faf-4d58-a409-288dc94f07cd"
      },
      "execution_count": 9,
      "outputs": [
        {
          "output_type": "stream",
          "name": "stdout",
          "text": [
            "##### Menu #####\n",
            "1. Para fazer um saque\n",
            "2. Para fazer um depósito\n",
            "3. Para verificar o saldo\n",
            "4. Para sair\n",
            "Digite uma opção do menu (1-4): 3\n",
            "Seu saldo é de R$ 100\n",
            "##### Menu #####\n",
            "1. Para fazer um saque\n",
            "2. Para fazer um depósito\n",
            "3. Para verificar o saldo\n",
            "4. Para sair\n",
            "Digite uma opção do menu (1-4): 1\n",
            "Digite o valor que você deseja sacar: 40\n",
            "Operação Realizada com Sucesso!\n",
            "##### Menu #####\n",
            "1. Para fazer um saque\n",
            "2. Para fazer um depósito\n",
            "3. Para verificar o saldo\n",
            "4. Para sair\n",
            "Digite uma opção do menu (1-4): 3\n",
            "Seu saldo é de R$ 60\n",
            "##### Menu #####\n",
            "1. Para fazer um saque\n",
            "2. Para fazer um depósito\n",
            "3. Para verificar o saldo\n",
            "4. Para sair\n",
            "Digite uma opção do menu (1-4): 2\n",
            "Digite o valor que você deseja depositar: 15\n",
            "Depósito realizado com Sucesso!\n",
            "##### Menu #####\n",
            "1. Para fazer um saque\n",
            "2. Para fazer um depósito\n",
            "3. Para verificar o saldo\n",
            "4. Para sair\n",
            "Digite uma opção do menu (1-4): 3\n",
            "Seu saldo é de R$ 45\n",
            "##### Menu #####\n",
            "1. Para fazer um saque\n",
            "2. Para fazer um depósito\n",
            "3. Para verificar o saldo\n",
            "4. Para sair\n",
            "Digite uma opção do menu (1-4): 4\n",
            "Sistema Encerrado!\n"
          ]
        }
      ]
    },
    {
      "cell_type": "code",
      "source": [
        "total_notas = 0\n",
        "total_pesos = 0\n",
        "\n",
        "for i in range(3):\n",
        "  nota = float(input(\"Digite a nota: \"))\n",
        "  peso = int(input(\"Digite o peso: \"))\n",
        "  total_notas += nota * peso\n",
        "  total_pesos +=peso\n",
        "\n",
        "media = total_notas/ total_pesos\n",
        "print(f\"A média é {round(media,2)}\")"
      ],
      "metadata": {
        "colab": {
          "base_uri": "https://localhost:8080/"
        },
        "id": "D1lKanRgpl80",
        "outputId": "0aac284e-4d59-4bdd-9cf2-b3e5a9b89d99"
      },
      "execution_count": 5,
      "outputs": [
        {
          "output_type": "stream",
          "name": "stdout",
          "text": [
            "Digite a nota: 7\n",
            "Digite o peso: 12\n",
            "Digite a nota: 8.5\n",
            "Digite o peso: 15\n",
            "Digite a nota: 9.8\n",
            "Digite o peso: 5\n",
            "A média é 8.14\n"
          ]
        }
      ]
    }
  ]
}