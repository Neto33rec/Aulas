{
  "nbformat": 4,
  "nbformat_minor": 0,
  "metadata": {
    "colab": {
      "provenance": [],
      "authorship_tag": "ABX9TyPIfuWEpqSGwagoLkg8G8eU",
      "include_colab_link": true
    },
    "kernelspec": {
      "name": "python3",
      "display_name": "Python 3"
    },
    "language_info": {
      "name": "python"
    }
  },
  "cells": [
    {
      "cell_type": "markdown",
      "metadata": {
        "id": "view-in-github",
        "colab_type": "text"
      },
      "source": [
        "<a href=\"https://colab.research.google.com/github/Neto33rec/Aulas/blob/main/Miniprojeto_(aula05).ipynb\" target=\"_parent\"><img src=\"https://colab.research.google.com/assets/colab-badge.svg\" alt=\"Open In Colab\"/></a>"
      ]
    },
    {
      "cell_type": "code",
      "execution_count": 3,
      "metadata": {
        "colab": {
          "base_uri": "https://localhost:8080/"
        },
        "id": "i8XgOJxDnDzK",
        "outputId": "1296d5d3-3c03-4270-b175-30b33344d0f5"
      },
      "outputs": [
        {
          "output_type": "stream",
          "name": "stdout",
          "text": [
            "Digite um numero inteiro: 3\n",
            "8\n",
            "5\n",
            "2.5\n",
            "25.0\n"
          ]
        }
      ],
      "source": [
        "numero = int(input(\"Digite um numero inteiro: \"))\n",
        "#adição\n",
        "numero +=5\n",
        "print (numero)\n",
        "#subtração\n",
        "numero -=3\n",
        "print (numero)\n",
        "#divisão\n",
        "numero /=2\n",
        "print (numero)\n",
        "#multiplicação\n",
        "numero *=10\n",
        "print (numero)"
      ]
    }
  ]
}