{
  "nbformat": 4,
  "nbformat_minor": 0,
  "metadata": {
    "colab": {
      "provenance": [],
      "authorship_tag": "ABX9TyMHIOYpx6jBPUnydjm1rM0w",
      "include_colab_link": true
    },
    "kernelspec": {
      "name": "python3",
      "display_name": "Python 3"
    },
    "language_info": {
      "name": "python"
    }
  },
  "cells": [
    {
      "cell_type": "markdown",
      "metadata": {
        "id": "view-in-github",
        "colab_type": "text"
      },
      "source": [
        "<a href=\"https://colab.research.google.com/github/Neto33rec/Aulas/blob/main/Aula08.ipynb\" target=\"_parent\"><img src=\"https://colab.research.google.com/assets/colab-badge.svg\" alt=\"Open In Colab\"/></a>"
      ]
    },
    {
      "cell_type": "code",
      "execution_count": null,
      "metadata": {
        "id": "fjSIpy_nn02X"
      },
      "outputs": [],
      "source": [
        "idade = 15\n",
        "if idade >= 18:\n",
        "  print(\"você é maior de idade. \")\n",
        "else:\n",
        "    print(\"você é menor de idade. \")"
      ]
    },
    {
      "cell_type": "code",
      "source": [
        "numero = int(input(\"digite um número inteiro: \"))\n",
        "\n",
        "if numero % 2 == 0:\n",
        "  print(\"número par!\")\n",
        "else:\n",
        " print(\"número impar!\")\n",
        "\n"
      ],
      "metadata": {
        "id": "6hXcW8G2o7g0"
      },
      "execution_count": null,
      "outputs": []
    },
    {
      "cell_type": "code",
      "source": [
        "dia_semana = input(\"digite um dia da semana: \")\n",
        "\n",
        "if dia_semana == \"sábado\" or dia_semana ==\"domingo\":\n",
        "  print(\"dia de folga!\")\n",
        "else:\n",
        "  print(\"dia de trabalhar!\")\n"
      ],
      "metadata": {
        "id": "c018DFdro9sj"
      },
      "execution_count": null,
      "outputs": []
    },
    {
      "cell_type": "code",
      "source": [
        "pet = input (\"digite qual o seu pet: \")\n",
        "\n",
        "if pet == \"dog\" or pet == \"cat\":\n",
        " print (\"É um mamifero\")\n",
        "else:\n",
        " print (\"Não é um mamifero\")"
      ],
      "metadata": {
        "id": "G7TXK08jo_i6"
      },
      "execution_count": null,
      "outputs": []
    },
    {
      "cell_type": "code",
      "source": [
        "tem_coco = True\n",
        "tem_queijo = False\n",
        "\n",
        "if tem_coco and tem_queijo:\n",
        "  print(\"fazer uma tapioca d'cria! \")\n",
        "else:\n",
        "  print(\"tapioca d'cria fica pra prox... \")\n"
      ],
      "metadata": {
        "id": "jhtK8wL8pBnU"
      },
      "execution_count": null,
      "outputs": []
    },
    {
      "cell_type": "code",
      "source": [
        "id = input(\"fale seu idioma cachorro loko: \")\n",
        "\n",
        "if id == \"English\":\n",
        " print (\"Welcome\")\n",
        "else:\n",
        " print (\"bem-vindo pitbull de raça\")"
      ],
      "metadata": {
        "id": "XthkhHonpD3_"
      },
      "execution_count": null,
      "outputs": []
    },
    {
      "cell_type": "code",
      "source": [
        "nt1 = int(input(\"digite sua nota 1: \"))\n",
        "nt2 = int(input(\"digite sua nota 2: \"))\n",
        "media = (nt1+nt2)/2\n",
        "if media >= 7:\n",
        "  print(\"Aprovado!\")\n",
        "elif media < 7:\n",
        " print(\"Recuperação, lazarento.\")"
      ],
      "metadata": {
        "id": "zMOc30jbpHf2"
      },
      "execution_count": null,
      "outputs": []
    }
  ]
}